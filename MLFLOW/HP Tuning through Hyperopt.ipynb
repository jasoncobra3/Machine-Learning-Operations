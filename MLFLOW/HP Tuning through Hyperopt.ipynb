{
 "cells": [
  {
   "cell_type": "code",
   "execution_count": 1,
   "id": "fdc32186-96a4-4685-b005-a0ef8625e419",
   "metadata": {},
   "outputs": [],
   "source": [
    "import numpy as np\n",
    "from hyperopt import fmin, tpe, hp, Trials, STATUS_OK\n",
    "from sklearn.ensemble import RandomForestClassifier\n",
    "from sklearn.datasets import load_iris\n",
    "from sklearn.model_selection import cross_val_score\n",
    "import pandas as pd\n",
    "import mlflow\n",
    "from sklearn.preprocessing import StandardScaler, LabelEncoder\n",
    "from sklearn.model_selection import train_test_split\n",
    "from sklearn import set_config\n",
    "from sklearn.metrics import accuracy_score"
   ]
  },
  {
   "cell_type": "code",
   "execution_count": 2,
   "id": "9ee8621e-5425-4856-b16f-f7e73eafa480",
   "metadata": {},
   "outputs": [
    {
     "data": {
      "text/html": [
       "<div>\n",
       "<style scoped>\n",
       "    .dataframe tbody tr th:only-of-type {\n",
       "        vertical-align: middle;\n",
       "    }\n",
       "\n",
       "    .dataframe tbody tr th {\n",
       "        vertical-align: top;\n",
       "    }\n",
       "\n",
       "    .dataframe thead th {\n",
       "        text-align: right;\n",
       "    }\n",
       "</style>\n",
       "<table border=\"1\" class=\"dataframe\">\n",
       "  <thead>\n",
       "    <tr style=\"text-align: right;\">\n",
       "      <th></th>\n",
       "      <th>sepal length (cm)</th>\n",
       "      <th>sepal width (cm)</th>\n",
       "      <th>petal length (cm)</th>\n",
       "      <th>petal width (cm)</th>\n",
       "    </tr>\n",
       "  </thead>\n",
       "  <tbody>\n",
       "    <tr>\n",
       "      <th>0</th>\n",
       "      <td>5.1</td>\n",
       "      <td>3.5</td>\n",
       "      <td>1.4</td>\n",
       "      <td>0.2</td>\n",
       "    </tr>\n",
       "    <tr>\n",
       "      <th>1</th>\n",
       "      <td>4.9</td>\n",
       "      <td>3.0</td>\n",
       "      <td>1.4</td>\n",
       "      <td>0.2</td>\n",
       "    </tr>\n",
       "    <tr>\n",
       "      <th>2</th>\n",
       "      <td>4.7</td>\n",
       "      <td>3.2</td>\n",
       "      <td>1.3</td>\n",
       "      <td>0.2</td>\n",
       "    </tr>\n",
       "    <tr>\n",
       "      <th>3</th>\n",
       "      <td>4.6</td>\n",
       "      <td>3.1</td>\n",
       "      <td>1.5</td>\n",
       "      <td>0.2</td>\n",
       "    </tr>\n",
       "    <tr>\n",
       "      <th>4</th>\n",
       "      <td>5.0</td>\n",
       "      <td>3.6</td>\n",
       "      <td>1.4</td>\n",
       "      <td>0.2</td>\n",
       "    </tr>\n",
       "    <tr>\n",
       "      <th>...</th>\n",
       "      <td>...</td>\n",
       "      <td>...</td>\n",
       "      <td>...</td>\n",
       "      <td>...</td>\n",
       "    </tr>\n",
       "    <tr>\n",
       "      <th>145</th>\n",
       "      <td>6.7</td>\n",
       "      <td>3.0</td>\n",
       "      <td>5.2</td>\n",
       "      <td>2.3</td>\n",
       "    </tr>\n",
       "    <tr>\n",
       "      <th>146</th>\n",
       "      <td>6.3</td>\n",
       "      <td>2.5</td>\n",
       "      <td>5.0</td>\n",
       "      <td>1.9</td>\n",
       "    </tr>\n",
       "    <tr>\n",
       "      <th>147</th>\n",
       "      <td>6.5</td>\n",
       "      <td>3.0</td>\n",
       "      <td>5.2</td>\n",
       "      <td>2.0</td>\n",
       "    </tr>\n",
       "    <tr>\n",
       "      <th>148</th>\n",
       "      <td>6.2</td>\n",
       "      <td>3.4</td>\n",
       "      <td>5.4</td>\n",
       "      <td>2.3</td>\n",
       "    </tr>\n",
       "    <tr>\n",
       "      <th>149</th>\n",
       "      <td>5.9</td>\n",
       "      <td>3.0</td>\n",
       "      <td>5.1</td>\n",
       "      <td>1.8</td>\n",
       "    </tr>\n",
       "  </tbody>\n",
       "</table>\n",
       "<p>150 rows × 4 columns</p>\n",
       "</div>"
      ],
      "text/plain": [
       "     sepal length (cm)  sepal width (cm)  petal length (cm)  petal width (cm)\n",
       "0                  5.1               3.5                1.4               0.2\n",
       "1                  4.9               3.0                1.4               0.2\n",
       "2                  4.7               3.2                1.3               0.2\n",
       "3                  4.6               3.1                1.5               0.2\n",
       "4                  5.0               3.6                1.4               0.2\n",
       "..                 ...               ...                ...               ...\n",
       "145                6.7               3.0                5.2               2.3\n",
       "146                6.3               2.5                5.0               1.9\n",
       "147                6.5               3.0                5.2               2.0\n",
       "148                6.2               3.4                5.4               2.3\n",
       "149                5.9               3.0                5.1               1.8\n",
       "\n",
       "[150 rows x 4 columns]"
      ]
     },
     "execution_count": 2,
     "metadata": {},
     "output_type": "execute_result"
    }
   ],
   "source": [
    "# Load the dataset\n",
    "X,y = load_iris(return_X_y=True,as_frame=True)\n",
    "\n",
    "X"
   ]
  },
  {
   "cell_type": "code",
   "execution_count": 3,
   "id": "e770dd09-a54b-488c-8607-c460c5d66a02",
   "metadata": {},
   "outputs": [],
   "source": [
    "set_config(transform_output='pandas')"
   ]
  },
  {
   "cell_type": "code",
   "execution_count": 4,
   "id": "33d1228c-0086-4c7a-b6fe-5f45528d4e9a",
   "metadata": {},
   "outputs": [
    {
     "name": "stdout",
     "output_type": "stream",
     "text": [
      "The shape of the train data is (120, 4)\n",
      "The shape of the test data is  (30, 4)\n"
     ]
    }
   ],
   "source": [
    "# train test split\n",
    "\n",
    "random_state = 42\n",
    "test_size = 0.2\n",
    "\n",
    "X_train, X_test, y_train, y_test = train_test_split(X,y,test_size=test_size,random_state=random_state)\n",
    "\n",
    "print('The shape of the train data is',X_train.shape) \n",
    "print('The shape of the test data is ',X_test.shape)"
   ]
  },
  {
   "cell_type": "code",
   "execution_count": 5,
   "id": "eb66345b-c588-4cba-8eb4-1acb1d15acfa",
   "metadata": {},
   "outputs": [],
   "source": [
    "scaler = StandardScaler()\n",
    "\n",
    "label_encoder = LabelEncoder()\n",
    "\n",
    "# fit_transform on the train data\n",
    "X_train_trans = scaler.fit_transform(X_train)\n",
    "y_train = label_encoder.fit_transform(y_train)\n",
    "\n",
    "# transform on the test data\n",
    "X_test_trans = scaler.transform(X_test)\n",
    "y_test = label_encoder.transform(y_test)"
   ]
  },
  {
   "cell_type": "code",
   "execution_count": 6,
   "id": "3293fa30-9a73-47c7-ae3e-80b49a90c61e",
   "metadata": {},
   "outputs": [
    {
     "data": {
      "text/html": [
       "<div>\n",
       "<style scoped>\n",
       "    .dataframe tbody tr th:only-of-type {\n",
       "        vertical-align: middle;\n",
       "    }\n",
       "\n",
       "    .dataframe tbody tr th {\n",
       "        vertical-align: top;\n",
       "    }\n",
       "\n",
       "    .dataframe thead th {\n",
       "        text-align: right;\n",
       "    }\n",
       "</style>\n",
       "<table border=\"1\" class=\"dataframe\">\n",
       "  <thead>\n",
       "    <tr style=\"text-align: right;\">\n",
       "      <th></th>\n",
       "      <th>sepal length (cm)</th>\n",
       "      <th>sepal width (cm)</th>\n",
       "      <th>petal length (cm)</th>\n",
       "      <th>petal width (cm)</th>\n",
       "    </tr>\n",
       "  </thead>\n",
       "  <tbody>\n",
       "    <tr>\n",
       "      <th>22</th>\n",
       "      <td>-1.473937</td>\n",
       "      <td>1.203658</td>\n",
       "      <td>-1.562535</td>\n",
       "      <td>-1.312603</td>\n",
       "    </tr>\n",
       "    <tr>\n",
       "      <th>15</th>\n",
       "      <td>-0.133071</td>\n",
       "      <td>2.992376</td>\n",
       "      <td>-1.276006</td>\n",
       "      <td>-1.045633</td>\n",
       "    </tr>\n",
       "    <tr>\n",
       "      <th>65</th>\n",
       "      <td>1.085898</td>\n",
       "      <td>0.085709</td>\n",
       "      <td>0.385858</td>\n",
       "      <td>0.289218</td>\n",
       "    </tr>\n",
       "    <tr>\n",
       "      <th>11</th>\n",
       "      <td>-1.230143</td>\n",
       "      <td>0.756479</td>\n",
       "      <td>-1.218701</td>\n",
       "      <td>-1.312603</td>\n",
       "    </tr>\n",
       "    <tr>\n",
       "      <th>42</th>\n",
       "      <td>-1.717731</td>\n",
       "      <td>0.309299</td>\n",
       "      <td>-1.390618</td>\n",
       "      <td>-1.312603</td>\n",
       "    </tr>\n",
       "    <tr>\n",
       "      <th>...</th>\n",
       "      <td>...</td>\n",
       "      <td>...</td>\n",
       "      <td>...</td>\n",
       "      <td>...</td>\n",
       "    </tr>\n",
       "    <tr>\n",
       "      <th>71</th>\n",
       "      <td>0.354517</td>\n",
       "      <td>-0.585060</td>\n",
       "      <td>0.156636</td>\n",
       "      <td>0.155733</td>\n",
       "    </tr>\n",
       "    <tr>\n",
       "      <th>106</th>\n",
       "      <td>-1.108246</td>\n",
       "      <td>-1.255829</td>\n",
       "      <td>0.443164</td>\n",
       "      <td>0.689673</td>\n",
       "    </tr>\n",
       "    <tr>\n",
       "      <th>14</th>\n",
       "      <td>-0.011174</td>\n",
       "      <td>2.098017</td>\n",
       "      <td>-1.447923</td>\n",
       "      <td>-1.312603</td>\n",
       "    </tr>\n",
       "    <tr>\n",
       "      <th>92</th>\n",
       "      <td>-0.011174</td>\n",
       "      <td>-1.032239</td>\n",
       "      <td>0.156636</td>\n",
       "      <td>0.022248</td>\n",
       "    </tr>\n",
       "    <tr>\n",
       "      <th>102</th>\n",
       "      <td>1.573486</td>\n",
       "      <td>-0.137880</td>\n",
       "      <td>1.245443</td>\n",
       "      <td>1.223613</td>\n",
       "    </tr>\n",
       "  </tbody>\n",
       "</table>\n",
       "<p>120 rows × 4 columns</p>\n",
       "</div>"
      ],
      "text/plain": [
       "     sepal length (cm)  sepal width (cm)  petal length (cm)  petal width (cm)\n",
       "22           -1.473937          1.203658          -1.562535         -1.312603\n",
       "15           -0.133071          2.992376          -1.276006         -1.045633\n",
       "65            1.085898          0.085709           0.385858          0.289218\n",
       "11           -1.230143          0.756479          -1.218701         -1.312603\n",
       "42           -1.717731          0.309299          -1.390618         -1.312603\n",
       "..                 ...               ...                ...               ...\n",
       "71            0.354517         -0.585060           0.156636          0.155733\n",
       "106          -1.108246         -1.255829           0.443164          0.689673\n",
       "14           -0.011174          2.098017          -1.447923         -1.312603\n",
       "92           -0.011174         -1.032239           0.156636          0.022248\n",
       "102           1.573486         -0.137880           1.245443          1.223613\n",
       "\n",
       "[120 rows x 4 columns]"
      ]
     },
     "execution_count": 6,
     "metadata": {},
     "output_type": "execute_result"
    }
   ],
   "source": [
    "X_train_trans"
   ]
  },
  {
   "cell_type": "code",
   "execution_count": 7,
   "id": "fb9c2bfc-df98-4ede-a547-b93955f41429",
   "metadata": {},
   "outputs": [],
   "source": [
    "# define the objective function\n",
    "\n",
    "def objective(params):\n",
    "    with mlflow.start_run(nested=True) as parent:\n",
    "        # log the current run parameters\n",
    "        mlflow.log_params(params)\n",
    "        # give the parameters as integers\n",
    "        max_depth = int(params['max_depth'])\n",
    "        n_estimators = int(params['n_estimators'])\n",
    "        # train the model\n",
    "        model = RandomForestClassifier(n_estimators=n_estimators,max_depth=max_depth)\n",
    "        model.fit(X_train_trans,y_train)\n",
    "        # get the accuracy score\n",
    "        y_pred = model.predict(X_test_trans)\n",
    "        # log the score\n",
    "        accuracy = accuracy_score(y_test,y_pred)\n",
    "        mlflow.log_metric('accuracy_score',accuracy)\n",
    "    return {'loss': -accuracy, 'status': STATUS_OK}"
   ]
  },
  {
   "cell_type": "code",
   "execution_count": 8,
   "id": "5e79d898-c356-441f-853e-e0e86b81018e",
   "metadata": {},
   "outputs": [],
   "source": [
    "# define the search space\n",
    "\n",
    "space = {\n",
    "    'n_estimators': hp.quniform('n_estimators', 50, 200, 10),\n",
    "    'max_depth': hp.quniform('max_depth', 5, 20, 1),\n",
    "    'criterion': hp.choice('criterion',['gini','entropy'])\n",
    "\n",
    "}"
   ]
  },
  {
   "cell_type": "code",
   "execution_count": 10,
   "id": "b51d60cb-d0a1-4728-935b-4536987e50b9",
   "metadata": {},
   "outputs": [
    {
     "name": "stderr",
     "output_type": "stream",
     "text": [
      "2024/10/06 12:37:40 INFO mlflow.tracking.fluent: Experiment with name 'HP_Tuning_Hyperopt' does not exist. Creating a new experiment.\n"
     ]
    },
    {
     "name": "stdout",
     "output_type": "stream",
     "text": [
      "  0%|                                                                           | 0/50 [00:00<?, ?trial/s, best loss=?]"
     ]
    },
    {
     "name": "stderr",
     "output_type": "stream",
     "text": [
      "2024/10/06 12:37:42 INFO mlflow.tracking._tracking_service.client: 🏃 View run orderly-sheep-446 at: http://127.0.0.1:8080/#/experiments/299195688437629425/runs/35e7b2f2ce3d4cb3be3646f4981057b4.\n",
      "\n",
      "2024/10/06 12:37:42 INFO mlflow.tracking._tracking_service.client: 🧪 View experiment at: http://127.0.0.1:8080/#/experiments/299195688437629425.\n",
      "\n"
     ]
    },
    {
     "name": "stdout",
     "output_type": "stream",
     "text": [
      "  2%|█▎                                                             | 1/50 [00:01<00:56,  1.15s/trial, best loss: -1.0]"
     ]
    },
    {
     "name": "stderr",
     "output_type": "stream",
     "text": [
      "2024/10/06 12:37:45 INFO mlflow.tracking._tracking_service.client: 🏃 View run whimsical-deer-205 at: http://127.0.0.1:8080/#/experiments/299195688437629425/runs/c0e00e77cd75444cb5a2e8820d09a0fa.\n",
      "\n",
      "2024/10/06 12:37:45 INFO mlflow.tracking._tracking_service.client: 🧪 View experiment at: http://127.0.0.1:8080/#/experiments/299195688437629425.\n",
      "\n"
     ]
    },
    {
     "name": "stdout",
     "output_type": "stream",
     "text": [
      "  4%|██▌                                                            | 2/50 [00:03<01:24,  1.77s/trial, best loss: -1.0]"
     ]
    },
    {
     "name": "stderr",
     "output_type": "stream",
     "text": [
      "2024/10/06 12:37:46 INFO mlflow.tracking._tracking_service.client: 🏃 View run puzzled-shrike-883 at: http://127.0.0.1:8080/#/experiments/299195688437629425/runs/1625eb123baa440b8d15100ec2efeed5.\n",
      "\n",
      "2024/10/06 12:37:46 INFO mlflow.tracking._tracking_service.client: 🧪 View experiment at: http://127.0.0.1:8080/#/experiments/299195688437629425.\n",
      "\n"
     ]
    },
    {
     "name": "stdout",
     "output_type": "stream",
     "text": [
      "  6%|███▊                                                           | 3/50 [00:05<01:26,  1.84s/trial, best loss: -1.0]"
     ]
    },
    {
     "name": "stderr",
     "output_type": "stream",
     "text": [
      "2024/10/06 12:37:48 INFO mlflow.tracking._tracking_service.client: 🏃 View run rambunctious-ram-814 at: http://127.0.0.1:8080/#/experiments/299195688437629425/runs/b059b3606fde4668b51bcdcb7e462188.\n",
      "\n",
      "2024/10/06 12:37:48 INFO mlflow.tracking._tracking_service.client: 🧪 View experiment at: http://127.0.0.1:8080/#/experiments/299195688437629425.\n",
      "\n"
     ]
    },
    {
     "name": "stdout",
     "output_type": "stream",
     "text": [
      "  8%|█████                                                          | 4/50 [00:06<01:15,  1.64s/trial, best loss: -1.0]"
     ]
    },
    {
     "name": "stderr",
     "output_type": "stream",
     "text": [
      "2024/10/06 12:37:49 INFO mlflow.tracking._tracking_service.client: 🏃 View run omniscient-smelt-291 at: http://127.0.0.1:8080/#/experiments/299195688437629425/runs/9f0e276115014d1a94c7629873d2ad8d.\n",
      "\n",
      "2024/10/06 12:37:49 INFO mlflow.tracking._tracking_service.client: 🧪 View experiment at: http://127.0.0.1:8080/#/experiments/299195688437629425.\n",
      "\n"
     ]
    },
    {
     "name": "stdout",
     "output_type": "stream",
     "text": [
      " 10%|██████▎                                                        | 5/50 [00:07<01:01,  1.37s/trial, best loss: -1.0]"
     ]
    },
    {
     "name": "stderr",
     "output_type": "stream",
     "text": [
      "2024/10/06 12:37:51 INFO mlflow.tracking._tracking_service.client: 🏃 View run defiant-gnat-5 at: http://127.0.0.1:8080/#/experiments/299195688437629425/runs/edd8868afee149478f786e271cbc84c8.\n",
      "\n",
      "2024/10/06 12:37:51 INFO mlflow.tracking._tracking_service.client: 🧪 View experiment at: http://127.0.0.1:8080/#/experiments/299195688437629425.\n",
      "\n"
     ]
    },
    {
     "name": "stdout",
     "output_type": "stream",
     "text": [
      " 12%|███████▌                                                       | 6/50 [00:09<01:14,  1.69s/trial, best loss: -1.0]"
     ]
    },
    {
     "name": "stderr",
     "output_type": "stream",
     "text": [
      "2024/10/06 12:37:53 INFO mlflow.tracking._tracking_service.client: 🏃 View run useful-hound-163 at: http://127.0.0.1:8080/#/experiments/299195688437629425/runs/10e7be53f8a2447aae4f9b7a164d1c9e.\n",
      "\n",
      "2024/10/06 12:37:53 INFO mlflow.tracking._tracking_service.client: 🧪 View experiment at: http://127.0.0.1:8080/#/experiments/299195688437629425.\n",
      "\n"
     ]
    },
    {
     "name": "stdout",
     "output_type": "stream",
     "text": [
      " 14%|████████▊                                                      | 7/50 [00:11<01:11,  1.66s/trial, best loss: -1.0]"
     ]
    },
    {
     "name": "stderr",
     "output_type": "stream",
     "text": [
      "2024/10/06 12:37:54 INFO mlflow.tracking._tracking_service.client: 🏃 View run unequaled-hare-947 at: http://127.0.0.1:8080/#/experiments/299195688437629425/runs/ab51b872f2bc4e2989c58101cda73179.\n",
      "\n",
      "2024/10/06 12:37:54 INFO mlflow.tracking._tracking_service.client: 🧪 View experiment at: http://127.0.0.1:8080/#/experiments/299195688437629425.\n",
      "\n"
     ]
    },
    {
     "name": "stdout",
     "output_type": "stream",
     "text": [
      " 16%|██████████                                                     | 8/50 [00:12<01:07,  1.60s/trial, best loss: -1.0]"
     ]
    },
    {
     "name": "stderr",
     "output_type": "stream",
     "text": [
      "2024/10/06 12:37:55 INFO mlflow.tracking._tracking_service.client: 🏃 View run spiffy-foal-2 at: http://127.0.0.1:8080/#/experiments/299195688437629425/runs/b8f045a55add4fd5b6f05339a84467c0.\n",
      "\n",
      "2024/10/06 12:37:55 INFO mlflow.tracking._tracking_service.client: 🧪 View experiment at: http://127.0.0.1:8080/#/experiments/299195688437629425.\n",
      "\n"
     ]
    },
    {
     "name": "stdout",
     "output_type": "stream",
     "text": [
      " 18%|███████████▎                                                   | 9/50 [00:14<01:02,  1.52s/trial, best loss: -1.0]"
     ]
    },
    {
     "name": "stderr",
     "output_type": "stream",
     "text": [
      "2024/10/06 12:37:56 INFO mlflow.tracking._tracking_service.client: 🏃 View run stylish-fish-471 at: http://127.0.0.1:8080/#/experiments/299195688437629425/runs/4ebc789ceaa142189331779df740fec6.\n",
      "\n",
      "2024/10/06 12:37:56 INFO mlflow.tracking._tracking_service.client: 🧪 View experiment at: http://127.0.0.1:8080/#/experiments/299195688437629425.\n",
      "\n"
     ]
    },
    {
     "name": "stdout",
     "output_type": "stream",
     "text": [
      " 20%|████████████▍                                                 | 10/50 [00:14<00:49,  1.24s/trial, best loss: -1.0]"
     ]
    },
    {
     "name": "stderr",
     "output_type": "stream",
     "text": [
      "2024/10/06 12:37:58 INFO mlflow.tracking._tracking_service.client: 🏃 View run dapper-vole-422 at: http://127.0.0.1:8080/#/experiments/299195688437629425/runs/0191d8c3955140579aaa40bf06e60482.\n",
      "\n",
      "2024/10/06 12:37:58 INFO mlflow.tracking._tracking_service.client: 🧪 View experiment at: http://127.0.0.1:8080/#/experiments/299195688437629425.\n",
      "\n"
     ]
    },
    {
     "name": "stdout",
     "output_type": "stream",
     "text": [
      " 22%|█████████████▋                                                | 11/50 [00:16<00:51,  1.33s/trial, best loss: -1.0]"
     ]
    },
    {
     "name": "stderr",
     "output_type": "stream",
     "text": [
      "2024/10/06 12:37:59 INFO mlflow.tracking._tracking_service.client: 🏃 View run calm-shoat-509 at: http://127.0.0.1:8080/#/experiments/299195688437629425/runs/f7a4b45ec9bb4b15ab292bb547656aab.\n",
      "\n",
      "2024/10/06 12:37:59 INFO mlflow.tracking._tracking_service.client: 🧪 View experiment at: http://127.0.0.1:8080/#/experiments/299195688437629425.\n",
      "\n"
     ]
    },
    {
     "name": "stdout",
     "output_type": "stream",
     "text": [
      " 24%|██████████████▉                                               | 12/50 [00:17<00:46,  1.23s/trial, best loss: -1.0]"
     ]
    },
    {
     "name": "stderr",
     "output_type": "stream",
     "text": [
      "2024/10/06 12:37:59 INFO mlflow.tracking._tracking_service.client: 🏃 View run adaptable-skink-74 at: http://127.0.0.1:8080/#/experiments/299195688437629425/runs/39c92695870f4ea5a0e8e32789f88655.\n",
      "\n",
      "2024/10/06 12:37:59 INFO mlflow.tracking._tracking_service.client: 🧪 View experiment at: http://127.0.0.1:8080/#/experiments/299195688437629425.\n",
      "\n"
     ]
    },
    {
     "name": "stdout",
     "output_type": "stream",
     "text": [
      " 26%|████████████████                                              | 13/50 [00:18<00:41,  1.13s/trial, best loss: -1.0]"
     ]
    },
    {
     "name": "stderr",
     "output_type": "stream",
     "text": [
      "2024/10/06 12:38:00 INFO mlflow.tracking._tracking_service.client: 🏃 View run amusing-skink-799 at: http://127.0.0.1:8080/#/experiments/299195688437629425/runs/19151d878d1e439783162d47152c6c94.\n",
      "\n",
      "2024/10/06 12:38:00 INFO mlflow.tracking._tracking_service.client: 🧪 View experiment at: http://127.0.0.1:8080/#/experiments/299195688437629425.\n",
      "\n"
     ]
    },
    {
     "name": "stdout",
     "output_type": "stream",
     "text": [
      " 28%|█████████████████▎                                            | 14/50 [00:19<00:39,  1.10s/trial, best loss: -1.0]"
     ]
    },
    {
     "name": "stderr",
     "output_type": "stream",
     "text": [
      "2024/10/06 12:38:01 INFO mlflow.tracking._tracking_service.client: 🏃 View run enchanting-slug-138 at: http://127.0.0.1:8080/#/experiments/299195688437629425/runs/b0d7fbb8e2814248be4177fbaaf0f9e0.\n",
      "\n",
      "2024/10/06 12:38:01 INFO mlflow.tracking._tracking_service.client: 🧪 View experiment at: http://127.0.0.1:8080/#/experiments/299195688437629425.\n",
      "\n"
     ]
    },
    {
     "name": "stdout",
     "output_type": "stream",
     "text": [
      " 30%|██████████████████▌                                           | 15/50 [00:20<00:36,  1.06s/trial, best loss: -1.0]"
     ]
    },
    {
     "name": "stderr",
     "output_type": "stream",
     "text": [
      "2024/10/06 12:38:02 INFO mlflow.tracking._tracking_service.client: 🏃 View run stately-grub-246 at: http://127.0.0.1:8080/#/experiments/299195688437629425/runs/47366d64416d45f1bbb890d9165b91e4.\n",
      "\n",
      "2024/10/06 12:38:02 INFO mlflow.tracking._tracking_service.client: 🧪 View experiment at: http://127.0.0.1:8080/#/experiments/299195688437629425.\n",
      "\n"
     ]
    },
    {
     "name": "stdout",
     "output_type": "stream",
     "text": [
      " 32%|███████████████████▊                                          | 16/50 [00:20<00:32,  1.06trial/s, best loss: -1.0]"
     ]
    },
    {
     "name": "stderr",
     "output_type": "stream",
     "text": [
      "2024/10/06 12:38:04 INFO mlflow.tracking._tracking_service.client: 🏃 View run incongruous-hawk-248 at: http://127.0.0.1:8080/#/experiments/299195688437629425/runs/1ce540d503564bd089f03a727580f911.\n",
      "\n",
      "2024/10/06 12:38:04 INFO mlflow.tracking._tracking_service.client: 🧪 View experiment at: http://127.0.0.1:8080/#/experiments/299195688437629425.\n",
      "\n"
     ]
    },
    {
     "name": "stdout",
     "output_type": "stream",
     "text": [
      " 34%|█████████████████████                                         | 17/50 [00:22<00:35,  1.08s/trial, best loss: -1.0]"
     ]
    },
    {
     "name": "stderr",
     "output_type": "stream",
     "text": [
      "2024/10/06 12:38:04 INFO mlflow.tracking._tracking_service.client: 🏃 View run placid-koi-551 at: http://127.0.0.1:8080/#/experiments/299195688437629425/runs/7e6b7a7766754d0c868d82346f5355a4.\n",
      "\n",
      "2024/10/06 12:38:04 INFO mlflow.tracking._tracking_service.client: 🧪 View experiment at: http://127.0.0.1:8080/#/experiments/299195688437629425.\n",
      "\n"
     ]
    },
    {
     "name": "stdout",
     "output_type": "stream",
     "text": [
      " 36%|██████████████████████▎                                       | 18/50 [00:22<00:29,  1.08trial/s, best loss: -1.0]"
     ]
    },
    {
     "name": "stderr",
     "output_type": "stream",
     "text": [
      "2024/10/06 12:38:05 INFO mlflow.tracking._tracking_service.client: 🏃 View run suave-pug-213 at: http://127.0.0.1:8080/#/experiments/299195688437629425/runs/6b9e247d373148f0bd1d7318596fee1c.\n",
      "\n",
      "2024/10/06 12:38:05 INFO mlflow.tracking._tracking_service.client: 🧪 View experiment at: http://127.0.0.1:8080/#/experiments/299195688437629425.\n",
      "\n"
     ]
    },
    {
     "name": "stdout",
     "output_type": "stream",
     "text": [
      " 38%|███████████████████████▌                                      | 19/50 [00:23<00:28,  1.09trial/s, best loss: -1.0]"
     ]
    },
    {
     "name": "stderr",
     "output_type": "stream",
     "text": [
      "2024/10/06 12:38:06 INFO mlflow.tracking._tracking_service.client: 🏃 View run awesome-dolphin-657 at: http://127.0.0.1:8080/#/experiments/299195688437629425/runs/ae26729c80ca41dfb7fa7cdd9ca4583c.\n",
      "\n",
      "2024/10/06 12:38:06 INFO mlflow.tracking._tracking_service.client: 🧪 View experiment at: http://127.0.0.1:8080/#/experiments/299195688437629425.\n",
      "\n"
     ]
    },
    {
     "name": "stdout",
     "output_type": "stream",
     "text": [
      " 40%|████████████████████████▊                                     | 20/50 [00:24<00:24,  1.21trial/s, best loss: -1.0]"
     ]
    },
    {
     "name": "stderr",
     "output_type": "stream",
     "text": [
      "2024/10/06 12:38:08 INFO mlflow.tracking._tracking_service.client: 🏃 View run abrasive-roo-26 at: http://127.0.0.1:8080/#/experiments/299195688437629425/runs/06139dcbcf0c49c1858f6160996a248a.\n",
      "\n",
      "2024/10/06 12:38:08 INFO mlflow.tracking._tracking_service.client: 🧪 View experiment at: http://127.0.0.1:8080/#/experiments/299195688437629425.\n",
      "\n"
     ]
    },
    {
     "name": "stdout",
     "output_type": "stream",
     "text": [
      " 42%|██████████████████████████                                    | 21/50 [00:27<00:41,  1.42s/trial, best loss: -1.0]"
     ]
    },
    {
     "name": "stderr",
     "output_type": "stream",
     "text": [
      "2024/10/06 12:38:10 INFO mlflow.tracking._tracking_service.client: 🏃 View run bold-hawk-514 at: http://127.0.0.1:8080/#/experiments/299195688437629425/runs/ccf8f45f773740f49d8cb36c01dcc474.\n",
      "\n",
      "2024/10/06 12:38:10 INFO mlflow.tracking._tracking_service.client: 🧪 View experiment at: http://127.0.0.1:8080/#/experiments/299195688437629425.\n",
      "\n"
     ]
    },
    {
     "name": "stdout",
     "output_type": "stream",
     "text": [
      " 44%|███████████████████████████▎                                  | 22/50 [00:29<00:43,  1.54s/trial, best loss: -1.0]"
     ]
    },
    {
     "name": "stderr",
     "output_type": "stream",
     "text": [
      "2024/10/06 12:38:12 INFO mlflow.tracking._tracking_service.client: 🏃 View run upset-dove-119 at: http://127.0.0.1:8080/#/experiments/299195688437629425/runs/45ffb62606e24af6b62724750e80a02a.\n",
      "\n",
      "2024/10/06 12:38:12 INFO mlflow.tracking._tracking_service.client: 🧪 View experiment at: http://127.0.0.1:8080/#/experiments/299195688437629425.\n",
      "\n"
     ]
    },
    {
     "name": "stdout",
     "output_type": "stream",
     "text": [
      " 46%|████████████████████████████▌                                 | 23/50 [00:31<00:45,  1.70s/trial, best loss: -1.0]"
     ]
    },
    {
     "name": "stderr",
     "output_type": "stream",
     "text": [
      "2024/10/06 12:38:16 INFO mlflow.tracking._tracking_service.client: 🏃 View run resilient-shrew-315 at: http://127.0.0.1:8080/#/experiments/299195688437629425/runs/e1c84322681a4b1d887008321c7d77a4.\n",
      "\n",
      "2024/10/06 12:38:16 INFO mlflow.tracking._tracking_service.client: 🧪 View experiment at: http://127.0.0.1:8080/#/experiments/299195688437629425.\n",
      "\n"
     ]
    },
    {
     "name": "stdout",
     "output_type": "stream",
     "text": [
      " 48%|█████████████████████████████▊                                | 24/50 [00:35<01:02,  2.41s/trial, best loss: -1.0]"
     ]
    },
    {
     "name": "stderr",
     "output_type": "stream",
     "text": [
      "2024/10/06 12:38:18 INFO mlflow.tracking._tracking_service.client: 🏃 View run unique-mare-900 at: http://127.0.0.1:8080/#/experiments/299195688437629425/runs/f51e7c812cb043a4a850410f502bdebd.\n",
      "\n",
      "2024/10/06 12:38:18 INFO mlflow.tracking._tracking_service.client: 🧪 View experiment at: http://127.0.0.1:8080/#/experiments/299195688437629425.\n",
      "\n"
     ]
    },
    {
     "name": "stdout",
     "output_type": "stream",
     "text": [
      " 50%|███████████████████████████████                               | 25/50 [00:36<00:54,  2.16s/trial, best loss: -1.0]"
     ]
    },
    {
     "name": "stderr",
     "output_type": "stream",
     "text": [
      "2024/10/06 12:38:20 INFO mlflow.tracking._tracking_service.client: 🏃 View run tasteful-deer-561 at: http://127.0.0.1:8080/#/experiments/299195688437629425/runs/e596fc30f5a8492880fac87ad2710ef2.\n",
      "\n",
      "2024/10/06 12:38:20 INFO mlflow.tracking._tracking_service.client: 🧪 View experiment at: http://127.0.0.1:8080/#/experiments/299195688437629425.\n",
      "\n"
     ]
    },
    {
     "name": "stdout",
     "output_type": "stream",
     "text": [
      " 52%|████████████████████████████████▏                             | 26/50 [00:38<00:49,  2.07s/trial, best loss: -1.0]"
     ]
    },
    {
     "name": "stderr",
     "output_type": "stream",
     "text": [
      "2024/10/06 12:38:22 INFO mlflow.tracking._tracking_service.client: 🏃 View run chill-ox-828 at: http://127.0.0.1:8080/#/experiments/299195688437629425/runs/7678dd270cb34b228c9dad812bdd078e.\n",
      "\n",
      "2024/10/06 12:38:22 INFO mlflow.tracking._tracking_service.client: 🧪 View experiment at: http://127.0.0.1:8080/#/experiments/299195688437629425.\n",
      "\n"
     ]
    },
    {
     "name": "stdout",
     "output_type": "stream",
     "text": [
      " 54%|█████████████████████████████████▍                            | 27/50 [00:40<00:47,  2.07s/trial, best loss: -1.0]"
     ]
    },
    {
     "name": "stderr",
     "output_type": "stream",
     "text": [
      "2024/10/06 12:38:23 INFO mlflow.tracking._tracking_service.client: 🏃 View run rogue-lark-850 at: http://127.0.0.1:8080/#/experiments/299195688437629425/runs/9c731fd25320411285c0c25462fef62b.\n",
      "\n",
      "2024/10/06 12:38:23 INFO mlflow.tracking._tracking_service.client: 🧪 View experiment at: http://127.0.0.1:8080/#/experiments/299195688437629425.\n",
      "\n"
     ]
    },
    {
     "name": "stdout",
     "output_type": "stream",
     "text": [
      " 56%|██████████████████████████████████▋                           | 28/50 [00:41<00:37,  1.71s/trial, best loss: -1.0]"
     ]
    },
    {
     "name": "stderr",
     "output_type": "stream",
     "text": [
      "2024/10/06 12:38:24 INFO mlflow.tracking._tracking_service.client: 🏃 View run righteous-sponge-311 at: http://127.0.0.1:8080/#/experiments/299195688437629425/runs/f3135417066c4a2188d3e7ba56a97d95.\n",
      "\n",
      "2024/10/06 12:38:24 INFO mlflow.tracking._tracking_service.client: 🧪 View experiment at: http://127.0.0.1:8080/#/experiments/299195688437629425.\n",
      "\n"
     ]
    },
    {
     "name": "stdout",
     "output_type": "stream",
     "text": [
      " 58%|███████████████████████████████████▉                          | 29/50 [00:42<00:33,  1.61s/trial, best loss: -1.0]"
     ]
    },
    {
     "name": "stderr",
     "output_type": "stream",
     "text": [
      "2024/10/06 12:38:26 INFO mlflow.tracking._tracking_service.client: 🏃 View run languid-mare-704 at: http://127.0.0.1:8080/#/experiments/299195688437629425/runs/1472b57aab4d4a37b791d9ab51d0a128.\n",
      "\n",
      "2024/10/06 12:38:26 INFO mlflow.tracking._tracking_service.client: 🧪 View experiment at: http://127.0.0.1:8080/#/experiments/299195688437629425.\n",
      "\n"
     ]
    },
    {
     "name": "stdout",
     "output_type": "stream",
     "text": [
      " 60%|█████████████████████████████████████▏                        | 30/50 [00:44<00:32,  1.64s/trial, best loss: -1.0]"
     ]
    },
    {
     "name": "stderr",
     "output_type": "stream",
     "text": [
      "2024/10/06 12:38:27 INFO mlflow.tracking._tracking_service.client: 🏃 View run overjoyed-bass-924 at: http://127.0.0.1:8080/#/experiments/299195688437629425/runs/30d484e67c43409594d2af91a0ffa748.\n",
      "\n",
      "2024/10/06 12:38:27 INFO mlflow.tracking._tracking_service.client: 🧪 View experiment at: http://127.0.0.1:8080/#/experiments/299195688437629425.\n",
      "\n"
     ]
    },
    {
     "name": "stdout",
     "output_type": "stream",
     "text": [
      " 62%|██████████████████████████████████████▍                       | 31/50 [00:45<00:26,  1.40s/trial, best loss: -1.0]"
     ]
    },
    {
     "name": "stderr",
     "output_type": "stream",
     "text": [
      "2024/10/06 12:38:28 INFO mlflow.tracking._tracking_service.client: 🏃 View run amusing-carp-16 at: http://127.0.0.1:8080/#/experiments/299195688437629425/runs/147ee187f3684d7ca191ac64a04c2c8a.\n",
      "\n",
      "2024/10/06 12:38:28 INFO mlflow.tracking._tracking_service.client: 🧪 View experiment at: http://127.0.0.1:8080/#/experiments/299195688437629425.\n",
      "\n"
     ]
    },
    {
     "name": "stdout",
     "output_type": "stream",
     "text": [
      " 64%|███████████████████████████████████████▋                      | 32/50 [00:47<00:27,  1.51s/trial, best loss: -1.0]"
     ]
    },
    {
     "name": "stderr",
     "output_type": "stream",
     "text": [
      "2024/10/06 12:38:30 INFO mlflow.tracking._tracking_service.client: 🏃 View run abrasive-kite-350 at: http://127.0.0.1:8080/#/experiments/299195688437629425/runs/e78bcdc6dcb44ec7b87db699a5597e05.\n",
      "\n",
      "2024/10/06 12:38:30 INFO mlflow.tracking._tracking_service.client: 🧪 View experiment at: http://127.0.0.1:8080/#/experiments/299195688437629425.\n",
      "\n"
     ]
    },
    {
     "name": "stdout",
     "output_type": "stream",
     "text": [
      " 66%|████████████████████████████████████████▉                     | 33/50 [00:48<00:26,  1.54s/trial, best loss: -1.0]"
     ]
    },
    {
     "name": "stderr",
     "output_type": "stream",
     "text": [
      "2024/10/06 12:38:31 INFO mlflow.tracking._tracking_service.client: 🏃 View run trusting-wren-72 at: http://127.0.0.1:8080/#/experiments/299195688437629425/runs/a0f1cb714d3048d583b33ca2d4e52a51.\n",
      "\n",
      "2024/10/06 12:38:31 INFO mlflow.tracking._tracking_service.client: 🧪 View experiment at: http://127.0.0.1:8080/#/experiments/299195688437629425.\n",
      "\n"
     ]
    },
    {
     "name": "stdout",
     "output_type": "stream",
     "text": [
      " 68%|██████████████████████████████████████████▏                   | 34/50 [00:49<00:22,  1.41s/trial, best loss: -1.0]"
     ]
    },
    {
     "name": "stderr",
     "output_type": "stream",
     "text": [
      "2024/10/06 12:38:32 INFO mlflow.tracking._tracking_service.client: 🏃 View run respected-shark-702 at: http://127.0.0.1:8080/#/experiments/299195688437629425/runs/a476191d29f749d192cdc7abb761ee24.\n",
      "\n",
      "2024/10/06 12:38:32 INFO mlflow.tracking._tracking_service.client: 🧪 View experiment at: http://127.0.0.1:8080/#/experiments/299195688437629425.\n",
      "\n"
     ]
    },
    {
     "name": "stdout",
     "output_type": "stream",
     "text": [
      " 70%|███████████████████████████████████████████▍                  | 35/50 [00:50<00:18,  1.22s/trial, best loss: -1.0]"
     ]
    },
    {
     "name": "stderr",
     "output_type": "stream",
     "text": [
      "2024/10/06 12:38:33 INFO mlflow.tracking._tracking_service.client: 🏃 View run adventurous-lynx-982 at: http://127.0.0.1:8080/#/experiments/299195688437629425/runs/e231a9648a56465180285edaa7425a5f.\n",
      "\n",
      "2024/10/06 12:38:33 INFO mlflow.tracking._tracking_service.client: 🧪 View experiment at: http://127.0.0.1:8080/#/experiments/299195688437629425.\n",
      "\n"
     ]
    },
    {
     "name": "stdout",
     "output_type": "stream",
     "text": [
      " 72%|████████████████████████████████████████████▋                 | 36/50 [00:51<00:16,  1.16s/trial, best loss: -1.0]"
     ]
    },
    {
     "name": "stderr",
     "output_type": "stream",
     "text": [
      "2024/10/06 12:38:34 INFO mlflow.tracking._tracking_service.client: 🏃 View run languid-colt-122 at: http://127.0.0.1:8080/#/experiments/299195688437629425/runs/0ec6062383a74283802be8825f9932c9.\n",
      "\n",
      "2024/10/06 12:38:34 INFO mlflow.tracking._tracking_service.client: 🧪 View experiment at: http://127.0.0.1:8080/#/experiments/299195688437629425.\n",
      "\n"
     ]
    },
    {
     "name": "stdout",
     "output_type": "stream",
     "text": [
      " 74%|█████████████████████████████████████████████▉                | 37/50 [00:53<00:15,  1.22s/trial, best loss: -1.0]"
     ]
    },
    {
     "name": "stderr",
     "output_type": "stream",
     "text": [
      "2024/10/06 12:38:35 INFO mlflow.tracking._tracking_service.client: 🏃 View run gaudy-calf-169 at: http://127.0.0.1:8080/#/experiments/299195688437629425/runs/c05b6a0aa1904c149fcd4d8837a4ffbc.\n",
      "\n",
      "2024/10/06 12:38:35 INFO mlflow.tracking._tracking_service.client: 🧪 View experiment at: http://127.0.0.1:8080/#/experiments/299195688437629425.\n",
      "\n"
     ]
    },
    {
     "name": "stdout",
     "output_type": "stream",
     "text": [
      " 76%|███████████████████████████████████████████████               | 38/50 [00:54<00:14,  1.20s/trial, best loss: -1.0]"
     ]
    },
    {
     "name": "stderr",
     "output_type": "stream",
     "text": [
      "2024/10/06 12:38:36 INFO mlflow.tracking._tracking_service.client: 🏃 View run mysterious-sow-589 at: http://127.0.0.1:8080/#/experiments/299195688437629425/runs/a10939e443ce4ea1932dddb5af6766ca.\n",
      "\n",
      "2024/10/06 12:38:36 INFO mlflow.tracking._tracking_service.client: 🧪 View experiment at: http://127.0.0.1:8080/#/experiments/299195688437629425.\n",
      "\n"
     ]
    },
    {
     "name": "stdout",
     "output_type": "stream",
     "text": [
      " 78%|████████████████████████████████████████████████▎             | 39/50 [00:54<00:11,  1.04s/trial, best loss: -1.0]"
     ]
    },
    {
     "name": "stderr",
     "output_type": "stream",
     "text": [
      "2024/10/06 12:38:37 INFO mlflow.tracking._tracking_service.client: 🏃 View run dazzling-lark-340 at: http://127.0.0.1:8080/#/experiments/299195688437629425/runs/5050780a49704004837e670a205ff392.\n",
      "\n",
      "2024/10/06 12:38:37 INFO mlflow.tracking._tracking_service.client: 🧪 View experiment at: http://127.0.0.1:8080/#/experiments/299195688437629425.\n",
      "\n"
     ]
    },
    {
     "name": "stdout",
     "output_type": "stream",
     "text": [
      " 80%|█████████████████████████████████████████████████▌            | 40/50 [00:56<00:10,  1.09s/trial, best loss: -1.0]"
     ]
    },
    {
     "name": "stderr",
     "output_type": "stream",
     "text": [
      "2024/10/06 12:38:38 INFO mlflow.tracking._tracking_service.client: 🏃 View run traveling-fox-386 at: http://127.0.0.1:8080/#/experiments/299195688437629425/runs/9cadc2f2b21549f8856973fb658abf55.\n",
      "\n",
      "2024/10/06 12:38:38 INFO mlflow.tracking._tracking_service.client: 🧪 View experiment at: http://127.0.0.1:8080/#/experiments/299195688437629425.\n",
      "\n"
     ]
    },
    {
     "name": "stdout",
     "output_type": "stream",
     "text": [
      " 82%|██████████████████████████████████████████████████▊           | 41/50 [00:56<00:08,  1.03trial/s, best loss: -1.0]"
     ]
    },
    {
     "name": "stderr",
     "output_type": "stream",
     "text": [
      "2024/10/06 12:38:39 INFO mlflow.tracking._tracking_service.client: 🏃 View run loud-ant-84 at: http://127.0.0.1:8080/#/experiments/299195688437629425/runs/d866570d456945dfac43ce7467a1a32f.\n",
      "\n",
      "2024/10/06 12:38:39 INFO mlflow.tracking._tracking_service.client: 🧪 View experiment at: http://127.0.0.1:8080/#/experiments/299195688437629425.\n",
      "\n"
     ]
    },
    {
     "name": "stdout",
     "output_type": "stream",
     "text": [
      " 84%|████████████████████████████████████████████████████          | 42/50 [00:57<00:07,  1.14trial/s, best loss: -1.0]"
     ]
    },
    {
     "name": "stderr",
     "output_type": "stream",
     "text": [
      "2024/10/06 12:38:40 INFO mlflow.tracking._tracking_service.client: 🏃 View run rare-cat-75 at: http://127.0.0.1:8080/#/experiments/299195688437629425/runs/668bd6d9d6454c518ff7357b6ced0bce.\n",
      "\n",
      "2024/10/06 12:38:40 INFO mlflow.tracking._tracking_service.client: 🧪 View experiment at: http://127.0.0.1:8080/#/experiments/299195688437629425.\n",
      "\n"
     ]
    },
    {
     "name": "stdout",
     "output_type": "stream",
     "text": [
      " 86%|█████████████████████████████████████████████████████▎        | 43/50 [00:58<00:06,  1.16trial/s, best loss: -1.0]"
     ]
    },
    {
     "name": "stderr",
     "output_type": "stream",
     "text": [
      "2024/10/06 12:38:41 INFO mlflow.tracking._tracking_service.client: 🏃 View run mysterious-wasp-589 at: http://127.0.0.1:8080/#/experiments/299195688437629425/runs/e94d31f9d75b4fb7a11ba7f624eb53a1.\n",
      "\n",
      "2024/10/06 12:38:41 INFO mlflow.tracking._tracking_service.client: 🧪 View experiment at: http://127.0.0.1:8080/#/experiments/299195688437629425.\n",
      "\n"
     ]
    },
    {
     "name": "stdout",
     "output_type": "stream",
     "text": [
      " 88%|██████████████████████████████████████████████████████▌       | 44/50 [00:59<00:06,  1.02s/trial, best loss: -1.0]"
     ]
    },
    {
     "name": "stderr",
     "output_type": "stream",
     "text": [
      "2024/10/06 12:38:41 INFO mlflow.tracking._tracking_service.client: 🏃 View run worried-finch-156 at: http://127.0.0.1:8080/#/experiments/299195688437629425/runs/9b3a0af4520e4207865e45f766e1074f.\n",
      "\n",
      "2024/10/06 12:38:41 INFO mlflow.tracking._tracking_service.client: 🧪 View experiment at: http://127.0.0.1:8080/#/experiments/299195688437629425.\n",
      "\n"
     ]
    },
    {
     "name": "stdout",
     "output_type": "stream",
     "text": [
      " 90%|███████████████████████████████████████████████████████▊      | 45/50 [01:00<00:04,  1.17trial/s, best loss: -1.0]"
     ]
    },
    {
     "name": "stderr",
     "output_type": "stream",
     "text": [
      "2024/10/06 12:38:42 INFO mlflow.tracking._tracking_service.client: 🏃 View run wise-smelt-733 at: http://127.0.0.1:8080/#/experiments/299195688437629425/runs/f95f45e2c8ec4aa4830ce961aa9954e0.\n",
      "\n",
      "2024/10/06 12:38:42 INFO mlflow.tracking._tracking_service.client: 🧪 View experiment at: http://127.0.0.1:8080/#/experiments/299195688437629425.\n",
      "\n"
     ]
    },
    {
     "name": "stdout",
     "output_type": "stream",
     "text": [
      " 92%|█████████████████████████████████████████████████████████     | 46/50 [01:00<00:03,  1.31trial/s, best loss: -1.0]"
     ]
    },
    {
     "name": "stderr",
     "output_type": "stream",
     "text": [
      "2024/10/06 12:38:43 INFO mlflow.tracking._tracking_service.client: 🏃 View run charming-shrimp-26 at: http://127.0.0.1:8080/#/experiments/299195688437629425/runs/b98cd0a0a27f4857b01e09ceae6efc66.\n",
      "\n",
      "2024/10/06 12:38:43 INFO mlflow.tracking._tracking_service.client: 🧪 View experiment at: http://127.0.0.1:8080/#/experiments/299195688437629425.\n",
      "\n"
     ]
    },
    {
     "name": "stdout",
     "output_type": "stream",
     "text": [
      " 94%|██████████████████████████████████████████████████████████▎   | 47/50 [01:02<00:02,  1.06trial/s, best loss: -1.0]"
     ]
    },
    {
     "name": "stderr",
     "output_type": "stream",
     "text": [
      "2024/10/06 12:38:44 INFO mlflow.tracking._tracking_service.client: 🏃 View run honorable-robin-427 at: http://127.0.0.1:8080/#/experiments/299195688437629425/runs/781be1028fed48f692adc01b5d0cdc73.\n",
      "\n",
      "2024/10/06 12:38:44 INFO mlflow.tracking._tracking_service.client: 🧪 View experiment at: http://127.0.0.1:8080/#/experiments/299195688437629425.\n",
      "\n"
     ]
    },
    {
     "name": "stdout",
     "output_type": "stream",
     "text": [
      " 96%|███████████████████████████████████████████████████████████▌  | 48/50 [01:02<00:01,  1.14trial/s, best loss: -1.0]"
     ]
    },
    {
     "name": "stderr",
     "output_type": "stream",
     "text": [
      "2024/10/06 12:38:46 INFO mlflow.tracking._tracking_service.client: 🏃 View run monumental-wolf-382 at: http://127.0.0.1:8080/#/experiments/299195688437629425/runs/c5e2833256bd49169d9278155a1ec462.\n",
      "\n",
      "2024/10/06 12:38:46 INFO mlflow.tracking._tracking_service.client: 🧪 View experiment at: http://127.0.0.1:8080/#/experiments/299195688437629425.\n",
      "\n"
     ]
    },
    {
     "name": "stdout",
     "output_type": "stream",
     "text": [
      " 98%|████████████████████████████████████████████████████████████▊ | 49/50 [01:04<00:01,  1.06s/trial, best loss: -1.0]"
     ]
    },
    {
     "name": "stderr",
     "output_type": "stream",
     "text": [
      "2024/10/06 12:38:47 INFO mlflow.tracking._tracking_service.client: 🏃 View run righteous-ram-557 at: http://127.0.0.1:8080/#/experiments/299195688437629425/runs/265e8330136f43a1acf6536cf296c730.\n",
      "\n",
      "2024/10/06 12:38:47 INFO mlflow.tracking._tracking_service.client: 🧪 View experiment at: http://127.0.0.1:8080/#/experiments/299195688437629425.\n",
      "\n"
     ]
    },
    {
     "name": "stdout",
     "output_type": "stream",
     "text": [
      "100%|██████████████████████████████████████████████████████████████| 50/50 [01:05<00:00,  1.31s/trial, best loss: -1.0]"
     ]
    },
    {
     "name": "stderr",
     "output_type": "stream",
     "text": [
      "2024/10/06 12:38:47 INFO mlflow.tracking._tracking_service.client: 🏃 View run Main Run at: http://127.0.0.1:8080/#/experiments/299195688437629425/runs/3e28abb3ea9f48008eb5b5aefabe5d6b.\n",
      "2024/10/06 12:38:47 INFO mlflow.tracking._tracking_service.client: 🧪 View experiment at: http://127.0.0.1:8080/#/experiments/299195688437629425.\n"
     ]
    },
    {
     "name": "stdout",
     "output_type": "stream",
     "text": [
      "\n"
     ]
    }
   ],
   "source": [
    "# set the tracking uri\n",
    "\n",
    "mlflow.set_tracking_uri(\"http://127.0.0.1:8080\")\n",
    "\n",
    "mlflow.set_experiment(\"HP_Tuning_Hyperopt\")\n",
    "\n",
    "with mlflow.start_run(run_name='Main Run'):\n",
    "    # set the fmin function\n",
    "    trials = Trials()\n",
    "    \n",
    "    best = fmin(fn=objective, \n",
    "                space=space, \n",
    "                algo=tpe.suggest, \n",
    "                max_evals=50, \n",
    "                trials=trials)\n"
   ]
  },
  {
   "cell_type": "code",
   "execution_count": 11,
   "id": "89864f1c-af34-4e02-91c3-90f2b6a3622c",
   "metadata": {},
   "outputs": [
    {
     "data": {
      "text/plain": [
       "{'criterion': 0, 'max_depth': 19.0, 'n_estimators': 140.0}"
      ]
     },
     "execution_count": 11,
     "metadata": {},
     "output_type": "execute_result"
    }
   ],
   "source": [
    "best"
   ]
  },
  {
   "cell_type": "markdown",
   "id": "e9abdd2b-86f7-409a-aef7-2ea66e9a4ce6",
   "metadata": {},
   "source": [
    "# Happy Learning..!"
   ]
  }
 ],
 "metadata": {
  "kernelspec": {
   "display_name": "Python 3 (ipykernel)",
   "language": "python",
   "name": "python3"
  },
  "language_info": {
   "codemirror_mode": {
    "name": "ipython",
    "version": 3
   },
   "file_extension": ".py",
   "mimetype": "text/x-python",
   "name": "python",
   "nbconvert_exporter": "python",
   "pygments_lexer": "ipython3",
   "version": "3.11.7"
  }
 },
 "nbformat": 4,
 "nbformat_minor": 5
}
